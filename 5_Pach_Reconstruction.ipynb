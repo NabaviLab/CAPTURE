{
  "nbformat": 4,
  "nbformat_minor": 0,
  "metadata": {
    "colab": {
      "provenance": []
    },
    "kernelspec": {
      "name": "python3",
      "display_name": "Python 3"
    },
    "language_info": {
      "name": "python"
    }
  },
  "cells": [
    {
      "cell_type": "markdown",
      "source": [
        "#### Combine Image"
      ],
      "metadata": {
        "id": "kFxPovzWL4e7"
      }
    },
    {
      "cell_type": "code",
      "source": [
        "import numpy as np\n",
        "from skimage import io"
      ],
      "metadata": {
        "id": "lqCZ2-rpL9rG"
      },
      "execution_count": null,
      "outputs": []
    },
    {
      "cell_type": "code",
      "execution_count": null,
      "metadata": {
        "id": "_w-T3u9PLm9F"
      },
      "outputs": [],
      "source": [
        "original_image_shape = (, , )\n",
        "\n",
        "# Initialize an empty combined image\n",
        "combined_image = np.zeros(original_image_shape, dtype=np.uint8)\n",
        "\n",
        "# Coordinates of patches derived from bounding boxes\n",
        "patch_coordinates = [\n",
        "    (0, 0),     # Cluster 0\n",
        "]\n",
        "\n",
        "# Loop through each patch and place it in the combined image\n",
        "for i, (y, x) in enumerate(patch_coordinates):\n",
        "    patch = io.imread(f'./{i}.tif')\n",
        "    y_end = min(y + patch.shape[0], combined_image.shape[0])\n",
        "    x_end = min(x + patch.shape[1], combined_image.shape[1])\n",
        "    patch_height = y_end - y\n",
        "    patch_width = x_end - x\n",
        "    combined_image[y:y_end, x:x_end, :] = patch[:patch_height, :patch_width, :]\n",
        "\n",
        "# Save the combined image\n",
        "io.imsave('Combined Image', combined_image)"
      ]
    },
    {
      "cell_type": "markdown",
      "source": [
        "#### Recunstruction"
      ],
      "metadata": {
        "id": "o-og3HCcMFtP"
      }
    },
    {
      "cell_type": "code",
      "source": [
        "import imageio\n",
        "import numpy as np\n",
        "import cv2\n",
        "import matplotlib.pyplot as plt\n",
        "\n",
        "# Read images\n",
        "image1 = imageio.imread('Registered Image').astype(float)\n",
        "image2 = imageio.imread('Combine Image').astype(float)\n",
        "\n",
        "# Ensure both images have the same number of channels\n",
        "if image1.ndim != image2.ndim:\n",
        "    raise ValueError(\"Images must have the same number of dimensions\")\n",
        "\n",
        "# Resize image2 to match image1's dimensions\n",
        "height, width = image1.shape[:2]\n",
        "image2 = cv2.resize(image2, (width, height))\n",
        "\n",
        "# Convert images to 8-bit for thresholding, considering min-max normalization\n",
        "image1_8bit = ((image1 - np.min(image1)) / (np.max(image1) - np.min(image1)) * 255).astype(np.uint8)\n",
        "image2_8bit = ((image2 - np.min(image2)) / (np.max(image2) - np.min(image2)) * 255).astype(np.uint8)\n",
        "\n",
        "# Apply adaptive thresholding for better background segmentation\n",
        "threshold_type = cv2.THRESH_BINARY + cv2.THRESH_OTSU\n",
        "_, mask1 = cv2.threshold(image1_8bit, 0, 255, threshold_type)\n",
        "_, mask2 = cv2.threshold(image2_8bit, 0, 255, threshold_type)\n",
        "\n",
        "# Convert masks to float for multiplication with original images\n",
        "mask1 = mask1.astype(float) / 255.0\n",
        "mask2 = mask2.astype(float) / 255.0\n",
        "\n",
        "# Directly overlay image2 onto image1 using the mask\n",
        "combined_image = (image1 * (1 - mask2)) + (image2 * mask2)\n",
        "\n",
        "# Normalize the combined image to range [0, 255]\n",
        "combined_image_normalized = 255 * (combined_image - np.min(combined_image)) / (np.max(combined_image) - np.min(combined_image))\n",
        "\n",
        "# Apply Gaussian Blurring with a larger kernel for smoothing\n",
        "smoothed_image = cv2.GaussianBlur(combined_image_normalized, (5,5), 0)\n",
        "\n",
        "# Save and display the result\n",
        "output_filename = \"1-2-3-4-5.tif\"\n",
        "imageio.imwrite(output_filename, smoothed_image.astype(np.uint8))\n",
        "print(f\"Combined image saved as {output_filename}\")\n",
        "\n",
        "# Plotting for visualization\n",
        "fig, ax = plt.subplots(1, 3, figsize=(15, 5))\n",
        "ax[0].imshow(image1, cmap='gray')\n",
        "ax[0].set_title(\"Original Image 1\")\n",
        "ax[1].imshow(image2, cmap='gray')\n",
        "ax[1].set_title(\"Original Image 2\")\n",
        "ax[2].imshow(smoothed_image, cmap='gray')\n",
        "ax[2].set_title(\"Combined Image\")\n",
        "for a in ax:\n",
        "    a.axis('off')\n",
        "plt.show()"
      ],
      "metadata": {
        "id": "pfHshTmNL29L"
      },
      "execution_count": null,
      "outputs": []
    },
    {
      "cell_type": "code",
      "source": [],
      "metadata": {
        "id": "ahjj5dMnMT7d"
      },
      "execution_count": null,
      "outputs": []
    }
  ]
}