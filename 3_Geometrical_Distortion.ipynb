{
  "nbformat": 4,
  "nbformat_minor": 0,
  "metadata": {
    "colab": {
      "provenance": []
    },
    "kernelspec": {
      "name": "python3",
      "display_name": "Python 3"
    },
    "language_info": {
      "name": "python"
    }
  },
  "cells": [
    {
      "cell_type": "code",
      "execution_count": null,
      "metadata": {
        "id": "jwVCpIz_IsQL"
      },
      "outputs": [],
      "source": [
        "import numpy as np\n",
        "import pandas as pd\n",
        "from matplotlib import pyplot as plt\n",
        "import seaborn as sns\n",
        "import matplotlib.pyplot as plt\n",
        "from scipy.interpolate import griddata"
      ]
    },
    {
      "cell_type": "code",
      "source": [
        "file_path = 'Match Information in CSV format extracted from \"Extract Information.ipynb\"'\n",
        "match_details_df = pd.read_csv(file_path)\n",
        "match_details_df.head()"
      ],
      "metadata": {
        "id": "pnsjqlR0I7SI"
      },
      "execution_count": null,
      "outputs": []
    },
    {
      "cell_type": "code",
      "source": [
        "def _plot_series(series, series_name, series_index=0):\n",
        "  palette = list(sns.palettes.mpl_palette('Dark2'))\n",
        "  xs = series['Match ID']\n",
        "  ys = series['Keypoint ID (Moving)']\n",
        "\n",
        "  plt.plot(xs, ys, label=series_name, color=palette[series_index % len(palette)])\n",
        "\n",
        "fig, ax = plt.subplots(figsize=(10, 5.2), layout='constrained')\n",
        "df_sorted = match_details_df.sort_values('Match ID', ascending=True)\n",
        "_plot_series(df_sorted, '')\n",
        "sns.despine(fig=fig, ax=ax)\n",
        "plt.xlabel('Match ID')\n",
        "_ = plt.ylabel('Keypoint ID (Moving)')"
      ],
      "metadata": {
        "id": "7CVINp4RJHiQ"
      },
      "execution_count": null,
      "outputs": []
    },
    {
      "cell_type": "code",
      "source": [
        "match_details_df['Magnitude'] = np.sqrt(match_details_df['Displacement Vector Δx']**2 +\n",
        "                                        match_details_df['Displacement Vector Δy']**2)\n",
        "match_details_df['Direction'] = np.degrees(np.arctan2(match_details_df['Displacement Vector Δy'],\n",
        "                                                      match_details_df['Displacement Vector Δx']))\n",
        "match_details_df[['Match ID', 'Displacement Vector Δx', 'Displacement Vector Δy', 'Magnitude', 'Direction']].head()"
      ],
      "metadata": {
        "id": "dj8EqPyTJKR3"
      },
      "execution_count": null,
      "outputs": []
    },
    {
      "cell_type": "code",
      "source": [
        "plt.figure(figsize=(9, 7))\n",
        "\n",
        "# Creating a quiver plot with refined styling\n",
        "quiver = plt.quiver(\n",
        "    np.zeros(len(match_details_df)),\n",
        "    np.zeros(len(match_details_df)),\n",
        "    match_details_df['Displacement Vector Δx'],\n",
        "    match_details_df['Displacement Vector Δy'],\n",
        "    match_details_df['Magnitude'],\n",
        "    scale=1, scale_units='xy', angles='xy', cmap='magma', edgecolor='k', linewidth=0.2\n",
        ")\n",
        "\n",
        "# Adding a color bar with modern tick parameters and larger font size\n",
        "cbar = plt.colorbar(quiver, label='Magnitude')\n",
        "cbar.ax.tick_params(labelsize=12)\n",
        "\n",
        "# Setting labels and title with larger fonts and modern font styles\n",
        "plt.xlabel('Displacement Vector Δx', fontsize=12, color='black')\n",
        "plt.ylabel('Displacement Vector Δy', fontsize=12, color='black')\n",
        "plt.title('Spatial Distribution of Displacement Vectors', fontsize=12, color='black')\n",
        "\n",
        "# Adding a grid with a modern appearance\n",
        "plt.grid(True, linestyle='--', linewidth=0.4, color='grey', alpha=0.4)\n",
        "\n",
        "# Setting axis to be equal and adding a light background for a polished look\n",
        "plt.axis('equal')\n",
        "plt.gca().set_facecolor('#F5F5F5')\n",
        "\n",
        "# Adding axis spines and tick parameters for a modern look\n",
        "plt.gca().spines['top'].set_visible(False)\n",
        "plt.gca().spines['right'].set_visible(False)\n",
        "plt.gca().spines['left'].set_color('black')\n",
        "plt.gca().spines['bottom'].set_color('black')\n",
        "plt.tick_params(axis='x', colors='black', direction='out', length=3, width=2)\n",
        "plt.tick_params(axis='y', colors='black', direction='out', length=3, width=2)\n",
        "\n",
        "# Show plot with tight layout for better spacing\n",
        "plt.tight_layout()\n",
        "plt.show()"
      ],
      "metadata": {
        "id": "GwjJzhp5JMyC"
      },
      "execution_count": null,
      "outputs": []
    },
    {
      "cell_type": "code",
      "source": [
        "descriptive_stats = match_details_df['Magnitude'].describe()\n",
        "correlation_matrix = match_details_df[['Magnitude', 'Scale Difference', 'Orientation Difference']].corr()\n",
        "descriptive_stats\n",
        "correlation_matrix"
      ],
      "metadata": {
        "id": "PkgrAkmMJT9A"
      },
      "execution_count": null,
      "outputs": []
    },
    {
      "cell_type": "code",
      "source": [
        "fixed_image_file = 'Fixed Information in CSV format extracted from \"Extract Information.ipynb\"'\n",
        "moving_image_file = 'Moving Information in CSV format extracted from \"Extract Information.ipynb\"'\n",
        "fixed_image_df = pd.read_csv(fixed_image_file)\n",
        "moving_image_df = pd.read_csv(moving_image_file)\n",
        "fixed_image_df.head(), moving_image_df.head()"
      ],
      "metadata": {
        "id": "8-REHAHpJWNX"
      },
      "execution_count": null,
      "outputs": []
    },
    {
      "cell_type": "code",
      "source": [
        "merged_df = match_details_df.merge(fixed_image_df[['Keypoint ID', 'X Coordinate', 'Y Coordinate']],\n",
        "                                   left_on='Keypoint ID (Fixed)', right_on='Keypoint ID', how='left')\n",
        "merged_df.rename(columns={'X Coordinate': 'X Coordinate (Fixed)',\n",
        "                          'Y Coordinate': 'Y Coordinate (Fixed)'}, inplace=True)\n",
        "merged_df.drop('Keypoint ID', axis=1, inplace=True)\n",
        "\n",
        "merged_df = merged_df.merge(moving_image_df[['Keypoint ID', 'X Coordinate', 'Y Coordinate']],\n",
        "                            left_on='Keypoint ID (Moving)', right_on='Keypoint ID', how='left')\n",
        "merged_df.rename(columns={'X Coordinate': 'X Coordinate (Moving)',\n",
        "                          'Y Coordinate': 'Y Coordinate (Moving)'}, inplace=True)\n",
        "merged_df.drop('Keypoint ID', axis=1, inplace=True)\n",
        "\n",
        "merged_df.head()"
      ],
      "metadata": {
        "id": "D3W9C4BRJnIW"
      },
      "execution_count": null,
      "outputs": []
    },
    {
      "cell_type": "code",
      "source": [
        "correlation_matrix_extended = merged_df[['Magnitude', 'Scale Difference', 'Orientation Difference',\n",
        "                                         'X Coordinate (Fixed)', 'Y Coordinate (Fixed)',\n",
        "                                         'X Coordinate (Moving)', 'Y Coordinate (Moving)']].corr()\n",
        "\n",
        "correlation_matrix_extended"
      ],
      "metadata": {
        "id": "5uPLXDqGJp-K"
      },
      "execution_count": null,
      "outputs": []
    },
    {
      "cell_type": "markdown",
      "source": [
        "#### Vector Field Visualization of Displacement Vectors"
      ],
      "metadata": {
        "id": "u49AMK88J8xF"
      }
    },
    {
      "cell_type": "code",
      "source": [
        "plt.figure(figsize=(9, 7))\n",
        "\n",
        "# Creating a quiver plot with refined styling\n",
        "quiver = plt.quiver(\n",
        "    merged_df['X Coordinate (Moving)'],\n",
        "    merged_df['Y Coordinate (Moving)'],\n",
        "    merged_df['Displacement Vector Δx'],\n",
        "    merged_df['Displacement Vector Δy'],\n",
        "    merged_df['Magnitude'],\n",
        "    scale=1, scale_units='xy', angles='xy', cmap='magma', width=0.005, edgecolor='k', linewidth=0.2\n",
        ")\n",
        "\n",
        "# Adding a color bar with modern tick parameters and larger font size\n",
        "cbar = plt.colorbar(quiver, label='Magnitude')\n",
        "cbar.ax.tick_params(labelsize=12)\n",
        "\n",
        "# Setting labels and title with larger fonts and modern font styles\n",
        "plt.xlabel('X Coordinate (Moving)', fontsize=12, color='black')\n",
        "plt.ylabel('Y Coordinate (Moving)', fontsize=12, color='black')\n",
        "plt.title('Vector Field Visualization of Displacement Vectors', fontsize=12, color='black')\n",
        "\n",
        "# Adding a grid with a modern appearance\n",
        "plt.grid(True, linestyle='--', linewidth=0.4, color='grey', alpha=0.4)\n",
        "\n",
        "# Setting axis to be equal and adding a light background for a polished look\n",
        "plt.axis('equal')\n",
        "plt.gca().set_facecolor('#F5F5F5')\n",
        "\n",
        "# Adding axis spines and tick parameters for a modern look\n",
        "plt.gca().spines['top'].set_visible(False)\n",
        "plt.gca().spines['right'].set_visible(False)\n",
        "plt.gca().spines['left'].set_color('black')\n",
        "plt.gca().spines['bottom'].set_color('black')\n",
        "plt.tick_params(axis='x', colors='black', direction='out', length=3, width=2)\n",
        "plt.tick_params(axis='y', colors='black', direction='out', length=3, width=2)\n",
        "\n",
        "# Show plot with tight layout for better spacing\n",
        "plt.tight_layout()\n",
        "plt.show()="
      ],
      "metadata": {
        "id": "W6ODZLevJr5t"
      },
      "execution_count": null,
      "outputs": []
    },
    {
      "cell_type": "markdown",
      "source": [
        "#### Magnitude Heatmap"
      ],
      "metadata": {
        "id": "kSSUQcebJ_Rf"
      }
    },
    {
      "cell_type": "code",
      "source": [
        "def interpolate_to_grid(x, y, z, x_grid, y_grid):\n",
        "    z_grid = griddata((x, y), z, (x_grid, y_grid), method='cubic')\n",
        "    return z_grid\n",
        "\n",
        "x_coords = np.linspace(merged_df['X Coordinate (Moving)'].min(), merged_df['X Coordinate (Moving)'].max(), 100)\n",
        "y_coords = np.linspace(merged_df['Y Coordinate (Moving)'].min(), merged_df['Y Coordinate (Moving)'].max(), 100)\n",
        "x_grid, y_grid = np.meshgrid(x_coords, y_coords)\n",
        "\n",
        "magnitude_grid = interpolate_to_grid(merged_df['X Coordinate (Moving)'], merged_df['Y Coordinate (Moving)'],\n",
        "                                     merged_df['Magnitude'], x_grid, y_grid)\n",
        "\n",
        "# Plotting the Magnitude Heatmap\n",
        "fig, ax = plt.subplots(figsize=(9, 7))\n",
        "cmap = ax.imshow(magnitude_grid, extent=(x_coords.min(), x_coords.max(), y_coords.min(), y_coords.max()),\n",
        "                 origin='lower', cmap='magma', aspect='auto')\n",
        "\n",
        "cbar = fig.colorbar(cmap, ax=ax, label='Magnitude')\n",
        "cbar.ax.tick_params(labelsize=12)\n",
        "\n",
        "ax.set_title('Magnitude Heatmap', fontsize=12, color='black')\n",
        "ax.set_xlabel('X Coordinate (Moving)', fontsize=12, color='black')\n",
        "ax.set_ylabel('Y Coordinate (Moving)', fontsize=12, color='black')\n",
        "\n",
        "# Adding a grid with a modern appearance\n",
        "ax.grid(True, linestyle='--', linewidth=0.5, color='grey', alpha=0.4)\n",
        "\n",
        "# Adding axis spines and tick parameters for a modern look\n",
        "ax.spines['top'].set_visible(False)\n",
        "ax.spines['right'].set_visible(False)\n",
        "ax.spines['left'].set_color('black')\n",
        "ax.spines['bottom'].set_color('black')\n",
        "ax.tick_params(axis='x', colors='black', direction='out', length=3, width=2)\n",
        "ax.tick_params(axis='y', colors='black', direction='out', length=3, width=2)\n",
        "\n",
        "plt.tight_layout()\n",
        "plt.show()"
      ],
      "metadata": {
        "id": "PjG82unDJvsM"
      },
      "execution_count": null,
      "outputs": []
    },
    {
      "cell_type": "markdown",
      "source": [
        "#### Direction Heatmap"
      ],
      "metadata": {
        "id": "cMmpLKDiKFsY"
      }
    },
    {
      "cell_type": "code",
      "source": [
        "def interpolate_to_grid(x, y, z, x_grid, y_grid):\n",
        "    z_grid = griddata((x, y), z, (x_grid, y_grid), method='cubic')\n",
        "    return z_grid\n",
        "\n",
        "x_coords = np.linspace(merged_df['X Coordinate (Moving)'].min(), merged_df['X Coordinate (Moving)'].max(), 100)\n",
        "y_coords = np.linspace(merged_df['Y Coordinate (Moving)'].min(), merged_df['Y Coordinate (Moving)'].max(), 100)\n",
        "x_grid, y_grid = np.meshgrid(x_coords, y_coords)\n",
        "\n",
        "direction_grid = interpolate_to_grid(merged_df['X Coordinate (Moving)'], merged_df['Y Coordinate (Moving)'],\n",
        "                                     merged_df['Direction'], x_grid, y_grid)\n",
        "\n",
        "# Plotting the Direction Heatmap\n",
        "fig, ax = plt.subplots(figsize=(9, 7))\n",
        "cmap = ax.imshow(direction_grid, extent=(x_coords.min(), x_coords.max(), y_coords.min(), y_coords.max()),\n",
        "                 origin='lower', cmap='hsv', aspect='auto')\n",
        "\n",
        "cbar = fig.colorbar(cmap, ax=ax, label='Direction (Degrees)')\n",
        "cbar.ax.tick_params(labelsize=12)\n",
        "\n",
        "ax.set_title('Direction Heatmap', fontsize=12, color='black')\n",
        "ax.set_xlabel('X Coordinate (Moving)', fontsize=12, color='black')\n",
        "ax.set_ylabel('Y Coordinate (Moving)', fontsize=12, color='black')\n",
        "\n",
        "# Adding a grid with a modern appearance\n",
        "ax.grid(True, linestyle='--', linewidth=0.5, color='grey', alpha=0.4)\n",
        "\n",
        "# Adding axis spines and tick parameters for a modern look\n",
        "ax.spines['top'].set_visible(False)\n",
        "ax.spines['right'].set_visible(False)\n",
        "ax.spines['left'].set_color('black')\n",
        "ax.spines['bottom'].set_color('black')\n",
        "ax.tick_params(axis='x', colors='black', direction='out', length=3, width=2)\n",
        "ax.tick_params(axis='y', colors='black', direction='out', length=3, width=2)\n",
        "\n",
        "plt.tight_layout()\n",
        "plt.show()"
      ],
      "metadata": {
        "id": "QyyOHdc3KGJs"
      },
      "execution_count": null,
      "outputs": []
    },
    {
      "cell_type": "markdown",
      "source": [
        "#### Create Final CSV"
      ],
      "metadata": {
        "id": "fLx6kXRzKQxi"
      }
    },
    {
      "cell_type": "code",
      "source": [
        "columns_to_keep = [\n",
        "    \"X Coordinate (Moving)\",\n",
        "    \"Y Coordinate (Moving)\",\n",
        "    \"Displacement Vector Δx\",\n",
        "    \"Displacement Vector Δy\",\n",
        "    \"Magnitude\",\n",
        "    \"Direction\",\n",
        "    \"Distance/Similarity Score\",\n",
        "    \"Scale Difference\",\n",
        "    \"Orientation Difference\"\n",
        "]\n",
        "\n",
        "filtered_df = merged_df[columns_to_keep]\n",
        "filtered_df.to_csv(\"output.csv\", index=False)"
      ],
      "metadata": {
        "id": "s2mmQSpyKNyc"
      },
      "execution_count": null,
      "outputs": []
    },
    {
      "cell_type": "code",
      "source": [
        "final_csv_path = 'output.csv'\n",
        "final_csv_df = pd.read_csv(final_csv_path)"
      ],
      "metadata": {
        "id": "WtVfZ6SjKOpP"
      },
      "execution_count": null,
      "outputs": []
    }
  ]
}