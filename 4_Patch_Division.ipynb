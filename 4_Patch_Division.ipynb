{
  "nbformat": 4,
  "nbformat_minor": 0,
  "metadata": {
    "colab": {
      "provenance": []
    },
    "kernelspec": {
      "name": "python3",
      "display_name": "Python 3"
    },
    "language_info": {
      "name": "python"
    }
  },
  "cells": [
    {
      "cell_type": "code",
      "source": [
        "import numpy as np\n",
        "import pandas as pd\n",
        "from sklearn.cluster import KMeans\n",
        "from skimage import io\n",
        "import os"
      ],
      "metadata": {
        "id": "ER5E6lNrKsoB"
      },
      "execution_count": null,
      "outputs": []
    },
    {
      "cell_type": "code",
      "execution_count": null,
      "metadata": {
        "id": "as-MWGGkKrAE"
      },
      "outputs": [],
      "source": [
        "final_csv_path = 'Outout Information Extracted from Geometrical Distortion.ipynb'\n",
        "final_csv_df = pd.read_csv(final_csv_path)\n",
        "\n",
        "def calculate_wcss(data, max_clusters=100):\n",
        "    wcss = []\n",
        "    for n in range(1, max_clusters + 1): =\n",
        "        kmeans = KMeans(n_clusters=n, init='k-means++', max_iter=300, n_init=10, random_state=0)\n",
        "        kmeans.fit(data)\n",
        "        wcss.append(kmeans.inertia_)\n",
        "    return wcss\n",
        "\n",
        "def calculate_bounding_boxes_with_padding(label_image, n_clusters, padding=5):\n",
        "    bounding_boxes = {}\n",
        "    for i in range(n_clusters):\n",
        "        rows, cols = np.where(label_image == i)\n",
        "        if len(rows) == 0 or len(cols) == 0:\n",
        "            continue\n",
        "        y_min, y_max = rows.min() - padding, rows.max() + padding\n",
        "        x_min, x_max = cols.min() - padding, cols.max() + padding\n",
        "        y_min = max(y_min, 0)\n",
        "        y_max = min(y_max, label_image.shape[0] - 1)\n",
        "        x_min = max(x_min, 0)\n",
        "        x_max = min(x_max, label_image.shape[1] - 1)\n",
        "\n",
        "        bounding_boxes[i] = (slice(y_min, y_max), slice(x_min, x_max))\n",
        "    return bounding_boxes\n",
        "\n",
        "def extract_patches(image, bounding_boxes):\n",
        "    patches = {}\n",
        "    for cluster, bbox in bounding_boxes.items():\n",
        "        patches[cluster] = image[bbox]\n",
        "    return patches\n",
        "\n",
        "def process_image(image_path, final_csv_df, n_clusters, image_id, output_dir):\n",
        "    image = io.imread(image_path)\n",
        "    kmeans = KMeans(n_clusters=n_clusters, random_state=0).fit(\n",
        "        final_csv_df[['X Coordinate (Moving)', 'Y Coordinate (Moving)']].values,\n",
        "        sample_weight=final_csv_df['Magnitude'].values\n",
        "    )\n",
        "\n",
        "    image_shape = image.shape[:2]\n",
        "    x_coords, y_coords = np.meshgrid(np.arange(image_shape[1]), np.arange(image_shape[0]))\n",
        "    all_coords = np.c_[y_coords.ravel(), x_coords.ravel()]\n",
        "    pixels_labels = kmeans.predict(all_coords)\n",
        "    label_image = pixels_labels.reshape(image_shape)\n",
        "    bounding_boxes_with_padding = calculate_bounding_boxes_with_padding(label_image, n_clusters, padding=0)\n",
        "    patches_with_padding = extract_patches(image, bounding_boxes_with_padding)\n",
        "\n",
        "    # Ensure the output directory exists\n",
        "    if not os.path.exists(output_dir):\n",
        "        os.makedirs(output_dir)\n",
        "\n",
        "    # Save each patch\n",
        "    for cluster, patch in patches_with_padding.items():\n",
        "        patch_filename = f'patch_img{image_id}_cluster_{cluster}.tif'\n",
        "        patch_path = os.path.join(output_dir, patch_filename)\n",
        "        io.imsave(patch_path, patch)\n",
        "\n",
        "    print(f\"Finished processing image {image_id}. Patches saved to {output_dir}.\")\n",
        "\n",
        "# Calculate WCSS and determine the optimal number of clusters\n",
        "wcss = calculate_wcss(final_csv_df[['X Coordinate (Moving)', 'Y Coordinate (Moving)']].values, max_clusters=10)\n",
        "n_clusters = np.argmax(np.diff(np.diff(wcss))) + 2  # Finding the \"elbow\" point\n",
        "\n",
        "print(f\"Optimal number of clusters: {n_clusters}\")\n",
        "\n",
        "# Your paths to images\n",
        "fixed_image_paths = ['Fixed Image']\n",
        "moving_image_paths = ['Registered Image']\n",
        "output_dir = './'\n",
        "\n",
        "# Process each image\n",
        "image_id = 1\n",
        "for path in fixed_image_paths + moving_image_paths:\n",
        "    process_image(path, final_csv_df, n_clusters, image_id, output_dir)\n",
        "    image_id += 1"
      ]
    }
  ]
}